{
 "cells": [
  {
   "cell_type": "markdown",
   "metadata": {},
   "source": [
    "### 파일 불러오기"
   ]
  },
  {
   "cell_type": "code",
   "execution_count": 3,
   "metadata": {},
   "outputs": [
    {
     "name": "stdout",
     "output_type": "stream",
     "text": [
      "File: ./한국어 음성/한국어_음성\\KsponSpeech_01\\KsponSpeech_0001\\KsponSpeech_000001.txt\n",
      "Content: 아/ 몬 소리야, 그건 또. b/\n",
      "\n",
      "File: ./한국어 음성/한국어_음성\\KsponSpeech_01\\KsponSpeech_0001\\KsponSpeech_000002.txt\n",
      "Content: 나는 악습은 원래 없어진다+ 없어져야 된다고 생각하긴 했는데 근데 그/ 약간 필요악으로 하나 정도쯤은 있어야 되거든. 물 뜨러 가고.\n",
      "\n",
      "File: ./한국어 음성/한국어_음성\\KsponSpeech_01\\KsponSpeech_0001\\KsponSpeech_000003.txt\n",
      "Content: b/ n/ 그래서 지호랑 계단 n/ 올라와서 b/ 막 위에 운동하는 기구 있대요. b/ 그서 그걸로 운동 할려구요. b/ n/\n",
      "\n",
      "File: ./한국어 음성/한국어_음성\\KsponSpeech_01\\KsponSpeech_0001\\KsponSpeech_000004.txt\n",
      "Content: 뭐/ 정신과 병원도 그 약 타서 먹어보고, 그 한동안 연락이 안 된 적이 있었단 말이야. 그때가 언제였 언제였더라?\n",
      "\n",
      "File: ./한국어 음성/한국어_음성\\KsponSpeech_01\\KsponSpeech_0001\\KsponSpeech_000005.txt\n",
      "Content: o/ b/ 그게 (0.1프로)/(영 점 일 프로) 가정의 아이들과 가정의 모습이야? b/\n",
      "\n"
     ]
    }
   ],
   "source": [
    "import os\n",
    "import glob\n",
    "\n",
    "def read_text_files(directory):\n",
    "    # 모든 텍스트 파일의 경로를 찾습니다.\n",
    "    file_paths = glob.glob(os.path.join(directory, '**/*.txt'), recursive=True)\n",
    "    text_data = {}\n",
    "\n",
    "    # 각 파일을 열고 내용을 읽습니다.\n",
    "    for file_path in file_paths:\n",
    "        with open(file_path, 'r', encoding='cp949') as file:\n",
    "            text_data[file_path] = file.read()\n",
    "\n",
    "    return text_data\n",
    "\n",
    "# 함수를 호출하여 디렉토리 내의 모든 텍스트 파일을 읽습니다.\n",
    "directory = './한국어 음성/한국어_음성'  # 대상 폴더 경로를 입력\n",
    "all_texts = read_text_files(directory)\n",
    "\n",
    "# 결과 출력 (예시로 몇 개의 파일 내용만 출력)\n",
    "for path, content in list(all_texts.items())[:5]:  # 처음 5개 파일만 출력\n",
    "    print(f'File: {path}\\nContent: {content}')"
   ]
  },
  {
   "cell_type": "markdown",
   "metadata": {},
   "source": [
    "### 불필요한 문자 제거"
   ]
  },
  {
   "cell_type": "code",
   "execution_count": 4,
   "metadata": {},
   "outputs": [],
   "source": [
    "import re\n",
    "\n",
    "def remove_text(texts_dict):\n",
    "    processed_texts = {}\n",
    "    for file_path, text in texts_dict.items():\n",
    "        # 소문자 알파벳 뒤에 /와 공백이 오는 형식 제거\n",
    "        text = re.sub(r'[a-z]/\\s', ' ', text)\n",
    "\n",
    "        # 불필요한 문자 제거: 영문자, 숫자, 공백, 한글, 일부 문장부호만 남김\n",
    "        text = re.sub(r'[^\\w\\s?.!가-힣]', ' ', text)\n",
    "\n",
    "        processed_texts[file_path] = text\n",
    "    return processed_texts"
   ]
  },
  {
   "cell_type": "code",
   "execution_count": 5,
   "metadata": {},
   "outputs": [
    {
     "name": "stdout",
     "output_type": "stream",
     "text": [
      "File: ./한국어 음성/한국어_음성\\KsponSpeech_01\\KsponSpeech_0001\\KsponSpeech_000001.txt\n",
      "Content: 아  몬 소리야  그건 또.  \n",
      "File: ./한국어 음성/한국어_음성\\KsponSpeech_01\\KsponSpeech_0001\\KsponSpeech_000002.txt\n",
      "Content: 나는 악습은 원래 없어진다  없어져야 된다고 생각하긴 했는데 근데 그  약간 필요악으로 하나 정도쯤은 있어야 되거든. 물 뜨러 가고.\n",
      "\n",
      "File: ./한국어 음성/한국어_음성\\KsponSpeech_01\\KsponSpeech_0001\\KsponSpeech_000003.txt\n",
      "Content:   그래서 지호랑 계단  올라와서  막 위에 운동하는 기구 있대요.  그서 그걸로 운동 할려구요.   \n",
      "File: ./한국어 음성/한국어_음성\\KsponSpeech_01\\KsponSpeech_0001\\KsponSpeech_000004.txt\n",
      "Content: 뭐  정신과 병원도 그 약 타서 먹어보고  그 한동안 연락이 안 된 적이 있었단 말이야. 그때가 언제였 언제였더라?\n",
      "\n",
      "File: ./한국어 음성/한국어_음성\\KsponSpeech_01\\KsponSpeech_0001\\KsponSpeech_000005.txt\n",
      "Content:   그게  0.1프로   영 점 일 프로  가정의 아이들과 가정의 모습이야?  \n"
     ]
    }
   ],
   "source": [
    "# 결과 출력\n",
    "processed_texts = remove_text(all_texts)\n",
    "for path, content in list(processed_texts.items())[:5]:\n",
    "    print(f'File: {path}\\nContent: {content}')"
   ]
  },
  {
   "cell_type": "markdown",
   "metadata": {},
   "source": [
    "### 띄어쓰기 교정"
   ]
  },
  {
   "cell_type": "code",
   "execution_count": null,
   "metadata": {},
   "outputs": [],
   "source": [
    "# 라이브러리 설치\n",
    "%pip install git+https://github.com/haven-jeon/PyKoSpacing.git"
   ]
  },
  {
   "cell_type": "code",
   "execution_count": 6,
   "metadata": {},
   "outputs": [],
   "source": [
    "from pykospacing import Spacing\n",
    "\n",
    "def correct_spacing(texts_dict):\n",
    "    spacing = Spacing()\n",
    "    corrected_texts = {}\n",
    "    for file_path, text in texts_dict.items():\n",
    "        # 띄어쓰기 교정 적용\n",
    "        corrected_text = spacing(text)\n",
    "        corrected_texts[file_path] = corrected_text\n",
    "    return corrected_texts"
   ]
  },
  {
   "cell_type": "code",
   "execution_count": 11,
   "metadata": {},
   "outputs": [],
   "source": [
    "# 결과 출력\n",
    "corrected_texts = correct_spacing(processed_texts)\n",
    "for path, content in list(corrected_texts.items())[:5]:\n",
    "    print(f'File: {path}\\nContent: {content}')"
   ]
  },
  {
   "cell_type": "markdown",
   "metadata": {},
   "source": [
    "### 맞춤법 교정"
   ]
  },
  {
   "cell_type": "code",
   "execution_count": null,
   "metadata": {},
   "outputs": [],
   "source": [
    "# 라이브러리 설치\n",
    "%pip install git+https://github.com/ssut/py-hanspell.git"
   ]
  },
  {
   "cell_type": "code",
   "execution_count": null,
   "metadata": {},
   "outputs": [],
   "source": [
    "from hanspell import spell_checker\n",
    "\n",
    "def correct_spell(texts_dict):\n",
    "    corrected_texts = {}\n",
    "    for file_path, text in texts_dict.items():\n",
    "        # 맞춤법 및 띄어쓰기 교정\n",
    "        result = spell_checker.check(text)\n",
    "        corrected_text = result.checked  # 교정된 텍스트\n",
    "        corrected_texts[file_path] = corrected_text\n",
    "    return corrected_texts"
   ]
  },
  {
   "cell_type": "code",
   "execution_count": null,
   "metadata": {},
   "outputs": [],
   "source": [
    "# 결과 추출\n",
    "corrected_texts = correct_spell(processed_texts)\n",
    "for path, content in list(corrected_texts.items())[:5]:\n",
    "    print(f'File: {path}\\nContent: {content}')"
   ]
  },
  {
   "cell_type": "markdown",
   "metadata": {},
   "source": [
    "###  형태소 분석"
   ]
  },
  {
   "cell_type": "code",
   "execution_count": null,
   "metadata": {},
   "outputs": [],
   "source": [
    "from konlpy.tag import Okt\n",
    "\n",
    "def analyze_morphology(texts_dict):\n",
    "    okt = Okt()\n",
    "    analyzed_texts = {}\n",
    "    for file_path, text in texts_dict.items():\n",
    "        # 형태소 분석\n",
    "        morphs = okt.morphs(text)\n",
    "        analyzed_texts[file_path] = morphs\n",
    "    return analyzed_texts"
   ]
  },
  {
   "cell_type": "code",
   "execution_count": null,
   "metadata": {},
   "outputs": [],
   "source": [
    "# 결과 추출\n",
    "analyzed_texts = analyze_morphology(corrected_texts)\n",
    "for path, morphs in list(analyzed_texts.items())[:5]:\n",
    "    print(f'File: {path}\\nMorphs: {morphs}')"
   ]
  }
 ],
 "metadata": {
  "kernelspec": {
   "display_name": "torch",
   "language": "python",
   "name": "python3"
  },
  "language_info": {
   "codemirror_mode": {
    "name": "ipython",
    "version": 3
   },
   "file_extension": ".py",
   "mimetype": "text/x-python",
   "name": "python",
   "nbconvert_exporter": "python",
   "pygments_lexer": "ipython3",
   "version": "3.8.17"
  }
 },
 "nbformat": 4,
 "nbformat_minor": 2
}

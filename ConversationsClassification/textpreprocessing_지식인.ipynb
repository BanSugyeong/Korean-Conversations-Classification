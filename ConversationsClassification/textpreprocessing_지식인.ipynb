{
 "cells": [
  {
   "cell_type": "markdown",
   "metadata": {},
   "source": [
    "### 지식인 파일 분리 및 저장"
   ]
  },
  {
   "cell_type": "code",
   "execution_count": 19,
   "metadata": {},
   "outputs": [
    {
     "name": "stdout",
     "output_type": "stream",
     "text": [
      "Saved 카테고리별\\TV_Q.csv and 카테고리별\\TV_R.csv\n",
      "Skipping TV_Q: Required columns are not present\n",
      "Skipping TV_R: Required columns are not present\n",
      "Saved 카테고리별\\날씨_Q.csv and 카테고리별\\날씨_R.csv\n",
      "Skipping 날씨_Q: Required columns are not present\n",
      "Skipping 날씨_R: Required columns are not present\n",
      "Saved 카테고리별\\쇼핑_Q.csv and 카테고리별\\쇼핑_R.csv\n",
      "Skipping 쇼핑_Q: Required columns are not present\n",
      "Skipping 쇼핑_R: Required columns are not present\n",
      "Saved 카테고리별\\안부 일상 대화_Q.csv and 카테고리별\\안부 일상 대화_R.csv\n",
      "Skipping 안부 일상 대화_Q: Required columns are not present\n",
      "Skipping 안부 일상 대화_R: Required columns are not present\n",
      "Saved 카테고리별\\정치 경제_Q.csv and 카테고리별\\정치 경제_R.csv\n",
      "Skipping 정치 경제_Q: Required columns are not present\n",
      "Skipping 정치 경제_R: Required columns are not present\n",
      "Saved 카테고리별\\취미_Q.csv and 카테고리별\\취미_R.csv\n",
      "Skipping 취미_Q: Required columns are not present\n",
      "Skipping 취미_R: Required columns are not present\n"
     ]
    }
   ],
   "source": [
    "import os\n",
    "import pandas as pd\n",
    "\n",
    "def read_csv_files(directory):\n",
    "    data_frames = []\n",
    "    for root, dirs, files in os.walk(directory):\n",
    "        for file in files:\n",
    "            if file.endswith('.csv'):\n",
    "                file_path = os.path.join(root, file)\n",
    "                df = pd.read_csv(file_path, encoding='utf-8')\n",
    "                data_frames.append((df, file))\n",
    "    return data_frames\n",
    "\n",
    "def split_and_save_csv(df, category, save_directory):\n",
    "    \n",
    "    # 필요한 열이 존재하는지 확인\n",
    "    if all(column in df.columns for column in ['카테고리', '키워드', '질문', '답변']):\n",
    "        # 질문과 답변 분리\n",
    "        df_q = df[['카테고리', '키워드', '질문']]\n",
    "        df_r = df[['카테고리', '키워드', '답변']]\n",
    "        \n",
    "        # 저장할 파일 경로 생성\n",
    "        q_file_path = os.path.join(save_directory, f\"{category}_Q.csv\")\n",
    "        r_file_path = os.path.join(save_directory, f\"{category}_R.csv\")\n",
    "        \n",
    "        # 분리된 DataFrame 저장\n",
    "        df_q.to_csv(q_file_path, index=False, encoding='utf-8')\n",
    "        df_r.to_csv(r_file_path, index=False, encoding='utf-8')\n",
    "        \n",
    "        print(f\"Saved {q_file_path} and {r_file_path}\")\n",
    "    else:\n",
    "        print(f\"Skipping {category}: Required columns are not present\")\n",
    "\n",
    "def process_all_csv_files(directory):\n",
    "    data_frames = read_csv_files(directory)\n",
    "    for df, file in data_frames:\n",
    "        category = os.path.splitext(file)[0]\n",
    "        split_and_save_csv(df, category, directory)\n",
    "\n",
    "directory = '카테고리별'  # 카테고리별 파일들이 저장된 디렉토리\n",
    "process_all_csv_files(directory)"
   ]
  },
  {
   "cell_type": "markdown",
   "metadata": {},
   "source": [
    "### '답변' 칼럼 nan 값 삭제"
   ]
  },
  {
   "cell_type": "code",
   "execution_count": 20,
   "metadata": {},
   "outputs": [
    {
     "name": "stdout",
     "output_type": "stream",
     "text": [
      "Processed 카테고리별\\TV_R.csv\n",
      "Processed 카테고리별\\날씨_R.csv\n",
      "Processed 카테고리별\\쇼핑_R.csv\n",
      "Processed 카테고리별\\안부 일상 대화_R.csv\n",
      "Processed 카테고리별\\정치 경제_R.csv\n",
      "Processed 카테고리별\\취미_R.csv\n"
     ]
    }
   ],
   "source": [
    "def remove_nan_from_r_files(directory):\n",
    "    for root, dirs, files in os.walk(directory):\n",
    "        for file in files:\n",
    "            if file.endswith('_R.csv'):\n",
    "                file_path = os.path.join(root, file)\n",
    "                \n",
    "                # CSV 파일 읽기\n",
    "                df = pd.read_csv(file_path, encoding='utf-8')\n",
    "                \n",
    "                # '답변' 열에 NaN 값이 있는 행 제거\n",
    "                df_cleaned = df.dropna(subset=['답변'])\n",
    "                \n",
    "                # 원래 파일에 덮어쓰기\n",
    "                df_cleaned.to_csv(file_path, index=False, encoding='utf-8')\n",
    "                \n",
    "                print(f\"Processed {file_path}\")\n",
    "\n",
    "directory = '카테고리별'  # _R.csv 파일들이 저장된 디렉토리\n",
    "remove_nan_from_r_files(directory)\n"
   ]
  },
  {
   "cell_type": "code",
   "execution_count": 22,
   "metadata": {},
   "outputs": [
    {
     "data": {
      "text/html": [
       "<div>\n",
       "<style scoped>\n",
       "    .dataframe tbody tr th:only-of-type {\n",
       "        vertical-align: middle;\n",
       "    }\n",
       "\n",
       "    .dataframe tbody tr th {\n",
       "        vertical-align: top;\n",
       "    }\n",
       "\n",
       "    .dataframe thead th {\n",
       "        text-align: right;\n",
       "    }\n",
       "</style>\n",
       "<table border=\"1\" class=\"dataframe\">\n",
       "  <thead>\n",
       "    <tr style=\"text-align: right;\">\n",
       "      <th></th>\n",
       "      <th>카테고리</th>\n",
       "      <th>키워드</th>\n",
       "      <th>답변</th>\n",
       "    </tr>\n",
       "  </thead>\n",
       "  <tbody>\n",
       "  </tbody>\n",
       "</table>\n",
       "</div>"
      ],
      "text/plain": [
       "Empty DataFrame\n",
       "Columns: [카테고리, 키워드, 답변]\n",
       "Index: []"
      ]
     },
     "execution_count": 22,
     "metadata": {},
     "output_type": "execute_result"
    }
   ],
   "source": [
    "null_answers = data[data['답변'].isnull()]\n",
    "null_answers"
   ]
  },
  {
   "cell_type": "code",
   "execution_count": 23,
   "metadata": {},
   "outputs": [
    {
     "data": {
      "text/plain": [
       "(15673, 3)"
      ]
     },
     "execution_count": 23,
     "metadata": {},
     "output_type": "execute_result"
    }
   ],
   "source": [
    "data.shape"
   ]
  },
  {
   "cell_type": "code",
   "execution_count": null,
   "metadata": {},
   "outputs": [],
   "source": []
  }
 ],
 "metadata": {
  "kernelspec": {
   "display_name": "base",
   "language": "python",
   "name": "python3"
  },
  "language_info": {
   "codemirror_mode": {
    "name": "ipython",
    "version": 3
   },
   "file_extension": ".py",
   "mimetype": "text/x-python",
   "name": "python",
   "nbconvert_exporter": "python",
   "pygments_lexer": "ipython3",
   "version": "3.11.5"
  }
 },
 "nbformat": 4,
 "nbformat_minor": 2
}
